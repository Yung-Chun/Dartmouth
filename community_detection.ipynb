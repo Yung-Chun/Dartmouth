{
 "cells": [
  {
   "cell_type": "code",
   "execution_count": 3,
   "metadata": {},
   "outputs": [
    {
     "name": "stderr",
     "output_type": "stream",
     "text": [
      "2024-06-29 15:42:11.432441: I tensorflow/core/platform/cpu_feature_guard.cc:193] This TensorFlow binary is optimized with oneAPI Deep Neural Network Library (oneDNN) to use the following CPU instructions in performance-critical operations:  SSE4.1 SSE4.2\n",
      "To enable them in other operations, rebuild TensorFlow with the appropriate compiler flags.\n"
     ]
    }
   ],
   "source": [
    "import pandas as pd\n",
    "# import pyspark.pandas as ps\n",
    "import glob\n",
    "import re\n",
    "import string\n",
    "import json\n",
    "from tqdm import tqdm\n",
    "from datetime import datetime\n",
    "import os\n",
    "import emoji\n",
    "import igraph as ig\n",
    "\n",
    "from sklearn.feature_extraction.text import TfidfVectorizer\n",
    "from sklearn.feature_extraction.text import CountVectorizer\n",
    "\n",
    "import spacy\n",
    "from spacy.lang.de.stop_words import STOP_WORDS\n",
    "nlp = spacy.load('en_core_web_sm')"
   ]
  },
  {
   "cell_type": "code",
   "execution_count": 33,
   "metadata": {},
   "outputs": [
    {
     "name": "stdout",
     "output_type": "stream",
     "text": [
      "(50752, 8)\n"
     ]
    },
    {
     "data": {
      "text/html": [
       "<div>\n",
       "<style scoped>\n",
       "    .dataframe tbody tr th:only-of-type {\n",
       "        vertical-align: middle;\n",
       "    }\n",
       "\n",
       "    .dataframe tbody tr th {\n",
       "        vertical-align: top;\n",
       "    }\n",
       "\n",
       "    .dataframe thead th {\n",
       "        text-align: right;\n",
       "    }\n",
       "</style>\n",
       "<table border=\"1\" class=\"dataframe\">\n",
       "  <thead>\n",
       "    <tr style=\"text-align: right;\">\n",
       "      <th></th>\n",
       "      <th>platformId</th>\n",
       "      <th>id</th>\n",
       "      <th>date</th>\n",
       "      <th>updated</th>\n",
       "      <th>type</th>\n",
       "      <th>languageCode</th>\n",
       "      <th>description</th>\n",
       "      <th>postUrl</th>\n",
       "    </tr>\n",
       "  </thead>\n",
       "  <tbody>\n",
       "    <tr>\n",
       "      <th>2</th>\n",
       "      <td>3396383103500594894_3074529058</td>\n",
       "      <td>11435815|3396383103500594894</td>\n",
       "      <td>2024-06-22 23:53:58</td>\n",
       "      <td>2024-06-25 18:04:22</td>\n",
       "      <td>photo</td>\n",
       "      <td>en</td>\n",
       "      <td>Israeli strikes kill at least 42 in Gaza, encl...</td>\n",
       "      <td>https://www.instagram.com/p/C8iYHAVSq7O/</td>\n",
       "    </tr>\n",
       "    <tr>\n",
       "      <th>3</th>\n",
       "      <td>3396382676744653258_5458166344</td>\n",
       "      <td>12755625|3396382676744653258</td>\n",
       "      <td>2024-06-22 23:53:15</td>\n",
       "      <td>2024-06-28 01:38:34</td>\n",
       "      <td>video</td>\n",
       "      <td>en</td>\n",
       "      <td>OT7 Quanny was spotted with Donald Trump in Ph...</td>\n",
       "      <td>https://www.instagram.com/p/C8iYAy4p8nK/</td>\n",
       "    </tr>\n",
       "    <tr>\n",
       "      <th>6</th>\n",
       "      <td>3396373958294098270_40015109842</td>\n",
       "      <td>21034332|3396373958294098270</td>\n",
       "      <td>2024-06-22 23:35:48</td>\n",
       "      <td>2024-06-25 13:36:41</td>\n",
       "      <td>photo</td>\n",
       "      <td>en</td>\n",
       "      <td>An opinion poll conducted by the Israeli Chann...</td>\n",
       "      <td>https://www.instagram.com/p/C8iWB7MgdFe/</td>\n",
       "    </tr>\n",
       "  </tbody>\n",
       "</table>\n",
       "</div>"
      ],
      "text/plain": [
       "                        platformId                            id  \\\n",
       "2   3396383103500594894_3074529058  11435815|3396383103500594894   \n",
       "3   3396382676744653258_5458166344  12755625|3396382676744653258   \n",
       "6  3396373958294098270_40015109842  21034332|3396373958294098270   \n",
       "\n",
       "                  date              updated   type languageCode  \\\n",
       "2  2024-06-22 23:53:58  2024-06-25 18:04:22  photo           en   \n",
       "3  2024-06-22 23:53:15  2024-06-28 01:38:34  video           en   \n",
       "6  2024-06-22 23:35:48  2024-06-25 13:36:41  photo           en   \n",
       "\n",
       "                                         description  \\\n",
       "2  Israeli strikes kill at least 42 in Gaza, encl...   \n",
       "3  OT7 Quanny was spotted with Donald Trump in Ph...   \n",
       "6  An opinion poll conducted by the Israeli Chann...   \n",
       "\n",
       "                                    postUrl  \n",
       "2  https://www.instagram.com/p/C8iYHAVSq7O/  \n",
       "3  https://www.instagram.com/p/C8iYAy4p8nK/  \n",
       "6  https://www.instagram.com/p/C8iWB7MgdFe/  "
      ]
     },
     "execution_count": 33,
     "metadata": {},
     "output_type": "execute_result"
    }
   ],
   "source": [
    "ins_data = pd.read_csv('ins_data.csv')\n",
    "ins_en = ins_data[ins_data['languageCode'] == 'en']\n",
    "ins_en = ins_en.dropna(subset=['description'])\n",
    "print(ins_en.shape)\n",
    "ins_en.head(3)"
   ]
  },
  {
   "cell_type": "code",
   "execution_count": 8,
   "metadata": {},
   "outputs": [
    {
     "name": "stdout",
     "output_type": "stream",
     "text": [
      "mps\n"
     ]
    }
   ],
   "source": [
    "# use GPU\n",
    "import torch\n",
    "# print(torch.device(\"cuda:0\" if torch.cuda.is_available() else \"cpu\"))\n",
    "# !nvidia-smi\n",
    "device = torch.device('mps')\n",
    "print(device)"
   ]
  },
  {
   "cell_type": "code",
   "execution_count": 26,
   "metadata": {},
   "outputs": [],
   "source": [
    "def find_hashtags(text):\n",
    "    return re.findall(r\"#[\\w]+\", text)\n",
    "\n",
    "def find_mentions(text):\n",
    "    return re.findall(r\"@[a-zA-Z0-9_.-]+\", text)\n",
    "\n",
    "def find_urls(text):\n",
    "    return re.findall(r\"http[s]?://(?:[a-zA-Z]|[0-9]|[$-_@.&+]|[!*\\\\(\\\\),]|(?:%[0-9a-fA-F][0-9a-fA-F]))+\", text)\n",
    "\n",
    "def pre_processing(content):\n",
    "    # Processing the content using spaCy and replace punctuations with spaces\n",
    "    punctuations = f\"[{re.escape(string.punctuation + '’–—' + '“”')}]\"\n",
    "    content = re.sub(punctuations, \" \", content)\n",
    "    doc = nlp(content)\n",
    "\n",
    "    tokens = [token.lemma_.lower() #lemmatize\n",
    "              for token in doc\n",
    "              if not token.is_stop #remove stopwords\n",
    "              and not token.is_space #remove multiple spaces\n",
    "        ]\n",
    "\n",
    "    tokens = ' '.join(tokens).strip()\n",
    "\n",
    "    return tokens"
   ]
  },
  {
   "cell_type": "code",
   "execution_count": 46,
   "metadata": {},
   "outputs": [],
   "source": [
    "# for each description, use CountVectorizer to build a dictionary of word counts, return the dictionary\n",
    "def get_word_counts(description):\n",
    "    count_vect = CountVectorizer()\n",
    "    X = count_vect.fit_transform([description])\n",
    "\n",
    "    word_counts = {word: X[0, idx] for word, idx in count_vect.vocabulary_.items()}\n",
    "\n",
    "    return word_counts"
   ]
  },
  {
   "cell_type": "code",
   "execution_count": 48,
   "metadata": {},
   "outputs": [
    {
     "name": "stderr",
     "output_type": "stream",
     "text": [
      "Processing rows: 100%|██████████| 50752/50752 [12:19<00:00, 68.63it/s] \n"
     ]
    }
   ],
   "source": [
    "def process_row(row):\n",
    "    clean_description = pre_processing(row['description'])\n",
    "    hashtags = find_hashtags(row['description'])\n",
    "    mentions = find_mentions(row['description'])\n",
    "    urls = find_urls(row['description'])\n",
    "    word_counts = get_word_counts(clean_description)\n",
    "    return pd.Series([clean_description, hashtags, mentions, urls, word_counts])\n",
    "\n",
    "# Use .apply() with axis=1 to process each row across all columns simultaneously\n",
    "tqdm.pandas(desc='Processing rows')\n",
    "results = ins_en.progress_apply(process_row, axis=1)\n",
    "results.columns = ['clean_description', 'hashtags', 'mentions', 'urls', 'word_counts']\n",
    "\n",
    "# Concatenate results back to the original DataFrame\n",
    "ins_en_processed = pd.concat([ins_en, results], axis=1)\n"
   ]
  },
  {
   "cell_type": "code",
   "execution_count": 96,
   "metadata": {},
   "outputs": [],
   "source": [
    "ins_en_processed.reset_index(inplace=True, drop=True)\n",
    "ins_en_processed.to_csv('ins_en_processed.csv', index=False)"
   ]
  },
  {
   "cell_type": "code",
   "execution_count": 23,
   "metadata": {},
   "outputs": [
    {
     "name": "stderr",
     "output_type": "stream",
     "text": [
      "  0%|          | 0/50758 [00:00<?, ?it/s]"
     ]
    },
    {
     "name": "stdout",
     "output_type": "stream",
     "text": [
      "2\n",
      "Israeli strikes kill at least 42 in Gaza, enclave’s government media office says @sightmagazine1 #IsraelHamasconflict #Israel #Hamas #Gaza #Palestinians #AlShati #AlTuffah \n",
      "\n",
      "https://www.sightmagazine.com.au/news/israeli-strikes-kill-at-least-42-in-gaza-enclaves-government-media-office-says/\n",
      "israeli strike kill 42 gaza enclave s government medium office say sightmagazine1 israelhamasconflict israel hamas gaza palestinians alshati altuffah https www sightmagazine com au news israeli strike kill 42 gaza enclave government medium office say\n"
     ]
    },
    {
     "name": "stderr",
     "output_type": "stream",
     "text": [
      "\n"
     ]
    }
   ],
   "source": [
    "# for idx, row in tqdm(ins_en.iterrows(), total=ins_en.shape[0]):\n",
    "#     ins_en.at[idx, 'clean_description'] = pre_processing(row.description)\n",
    "#     ins_en.at[idx, 'hashtags'] = find_hashtags(row.description)\n",
    "#     ins_en.at[idx, 'mentions'] = find_mentions(row.description)\n",
    "#     ins_en.at[idx, 'urls'] = find_urls(row.description)\n",
    "#     ins_en.at[idx, 'word_counts'] = get_word_counts(ins_en.at[idx, 'clean_description'])"
   ]
  },
  {
   "cell_type": "markdown",
   "metadata": {},
   "source": [
    "# Jaccard Similarity"
   ]
  },
  {
   "cell_type": "code",
   "execution_count": 2,
   "metadata": {},
   "outputs": [],
   "source": [
    "from itertools import combinations, permutations\n",
    "import math"
   ]
  },
  {
   "cell_type": "code",
   "execution_count": 4,
   "metadata": {},
   "outputs": [],
   "source": [
    "ins_en_processed = pd.read_csv('ins_en_processed.csv')"
   ]
  },
  {
   "cell_type": "code",
   "execution_count": 5,
   "metadata": {},
   "outputs": [],
   "source": [
    "def get_jaccard_similarities(combination):\n",
    "    # get the word_counts for each post\n",
    "    word_counts1 = eval(ins_en_processed['word_counts'][combination[0]])\n",
    "    word_counts2 = eval(ins_en_processed['word_counts'][combination[1]])\n",
    "    # print(word_counts1)\n",
    "    # print(word_counts2)\n",
    "\n",
    "    intersection = {word: word_counts1[word] + word_counts2[word] for word in word_counts1 if word in word_counts2}\n",
    "    union = word_counts1.copy()\n",
    "    for word, count in word_counts2.items():\n",
    "        if word in union:\n",
    "            union[word] += count\n",
    "        else:\n",
    "            union[word] = count\n",
    "\n",
    "    # sum of the values of the intersection and union\n",
    "    intersection_sum = sum(intersection.values())\n",
    "    union_sum = sum(union.values())\n",
    "    # print(intersection_sum, union_sum)\n",
    "\n",
    "    # calculate the jaccard similarity\n",
    "    jaccard_sim = intersection_sum / union_sum\n",
    "    # print(jaccard_sim)\n",
    "    \n",
    "    return jaccard_sim"
   ]
  },
  {
   "cell_type": "code",
   "execution_count": 10,
   "metadata": {},
   "outputs": [],
   "source": [
    "n = len(ins_en_processed)\n",
    "total_combinations = math.comb(n, 2) \n",
    "\n",
    "graph_data = []\n",
    "\n",
    "for idx, combination in tqdm(enumerate(combinations(ins_en_processed.index, 2)), total = total_combinations, desc='Processing combinations'):\n",
    "    id1 = ins_en_processed['id'][combination[0]]\n",
    "    id2 = ins_en_processed['id'][combination[1]]\n",
    "    jaccard_sim = get_jaccard_similarities(combination)\n",
    "    graph_data.append((id1, id2, jaccard_sim))\n",
    "\n",
    "graph_data = pd.DataFrame(graph_data, columns=['id1', 'id2', 'jaccard_sim'])"
   ]
  },
  {
   "cell_type": "code",
   "execution_count": null,
   "metadata": {},
   "outputs": [],
   "source": []
  }
 ],
 "metadata": {
  "kernelspec": {
   "display_name": "python39",
   "language": "python",
   "name": "python3"
  },
  "language_info": {
   "codemirror_mode": {
    "name": "ipython",
    "version": 3
   },
   "file_extension": ".py",
   "mimetype": "text/x-python",
   "name": "python",
   "nbconvert_exporter": "python",
   "pygments_lexer": "ipython3",
   "version": "3.9.undefined"
  }
 },
 "nbformat": 4,
 "nbformat_minor": 2
}
